{
 "cells": [
  {
   "cell_type": "code",
   "execution_count": null,
   "metadata": {},
   "outputs": [],
   "source": [
    "import Jax as np\n",
    "import jax\n",
    "from jax import random\n",
    "import jax.numpy as np\n",
    "from jax.scipy.linalg import cho_factor,cho_solve # necessary for Cholesky factorization\n"
   ]
  },
  {
   "cell_type": "code",
   "execution_count": null,
   "metadata": {},
   "outputs": [],
   "source": [
    "def sqexp_cov_function(X1, X2, hyperparams):\n",
    "\n",
    "    noise,signal,length = hyperparams\n",
    "    delta =0\n",
    "\n",
    "\n",
    "    diff = X1[:, np.newaxis, :] - X2[np.newaxis, :, :]\n",
    "    sq_distances = np.sum(diff ** 2, axis=-1)\n",
    "\n",
    "    cov =signal * np.exp(-sq_distances/length) \n",
    "    return cov"
   ]
  },
  {
   "cell_type": "code",
   "execution_count": null,
   "metadata": {},
   "outputs": [],
   "source": [
    "def neg_log_predictive_density(Y_test, posterior_mean, posterior_var, noise_variance):\n",
    "    adj_var = np.diag(posterior_var)+noise_variance\n",
    "    log_var = .5* np.log(2*np.pi*adj_var)\n",
    "    sq_diff = (posterior_mean - Y_test)**2 / (2*adj_var)\n",
    "    neg_log = log_var+sq_diff\n",
    "    return np.mean(neg_log)"
   ]
  }
 ],
 "metadata": {
  "language_info": {
   "name": "python"
  }
 },
 "nbformat": 4,
 "nbformat_minor": 2
}
